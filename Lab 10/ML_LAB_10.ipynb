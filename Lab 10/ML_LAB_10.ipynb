{
  "nbformat": 4,
  "nbformat_minor": 0,
  "metadata": {
    "colab": {
      "provenance": []
    },
    "kernelspec": {
      "name": "python3",
      "display_name": "Python 3"
    },
    "language_info": {
      "name": "python"
    }
  },
  "cells": [
    {
      "cell_type": "code",
      "execution_count": null,
      "metadata": {
        "colab": {
          "base_uri": "https://localhost:8080/"
        },
        "id": "A0j-OnYQmu4V",
        "outputId": "ef4773ee-e4af-4cb3-d021-fd4fbe1b24d8"
      },
      "outputs": [
        {
          "output_type": "stream",
          "name": "stdout",
          "text": [
            "Logistic Regression Accuracy: 0.8533\n",
            "Random Forest Accuracy: 0.8804\n",
            "SVM Accuracy: 0.8804\n",
            "\n",
            "--- After PCA (2 components) ---\n",
            "Logistic Regression Accuracy after PCA: 0.8587\n",
            "Random Forest Accuracy after PCA: 0.8315\n",
            "SVM Accuracy after PCA: 0.8478\n"
          ]
        }
      ],
      "source": [
        "import pandas as pd\n",
        "from sklearn.preprocessing import LabelEncoder, StandardScaler\n",
        "from sklearn.model_selection import train_test_split\n",
        "from sklearn.linear_model import LogisticRegression\n",
        "from sklearn.ensemble import RandomForestClassifier\n",
        "from sklearn.svm import SVC\n",
        "from sklearn.decomposition import PCA\n",
        "from sklearn.metrics import accuracy_score\n",
        "\n",
        "# Load dataset\n",
        "df = pd.read_csv(\"/content/heart (1).csv\")\n",
        "\n",
        "# Step 1: Convert categorical columns\n",
        "# Label Encoding for binary categorical features\n",
        "label_enc = LabelEncoder()\n",
        "for col in df.select_dtypes(include=['object']).columns:\n",
        "    if df[col].nunique() == 2:\n",
        "        df[col] = label_enc.fit_transform(df[col])\n",
        "    else:\n",
        "        df = pd.get_dummies(df, columns=[col])\n",
        "\n",
        "# Step 2: Separate features and label\n",
        "X = df.drop('HeartDisease', axis=1)\n",
        "y = df['HeartDisease']\n",
        "\n",
        "# Step 3: Scaling\n",
        "scaler = StandardScaler()\n",
        "X_scaled = scaler.fit_transform(X)\n",
        "\n",
        "# Step 4: Train/test split\n",
        "X_train, X_test, y_train, y_test = train_test_split(X_scaled, y, test_size=0.2, random_state=42)\n",
        "\n",
        "# Step 5: Train classifiers\n",
        "models = {\n",
        "    \"Logistic Regression\": LogisticRegression(),\n",
        "    \"Random Forest\": RandomForestClassifier(),\n",
        "    \"SVM\": SVC()\n",
        "}\n",
        "\n",
        "for name, model in models.items():\n",
        "    model.fit(X_train, y_train)\n",
        "    y_pred = model.predict(X_test)\n",
        "    acc = accuracy_score(y_test, y_pred)\n",
        "    print(f\"{name} Accuracy: {acc:.4f}\")\n",
        "\n",
        "# Step 6: Apply PCA\n",
        "pca = PCA(n_components=2)\n",
        "X_pca = pca.fit_transform(X_scaled)\n",
        "X_train_pca, X_test_pca, y_train_pca, y_test_pca = train_test_split(X_pca, y, test_size=0.2, random_state=42)\n",
        "\n",
        "print(\"\\n--- After PCA (2 components) ---\")\n",
        "for name, model in models.items():\n",
        "    model.fit(X_train_pca, y_train_pca)\n",
        "    y_pred_pca = model.predict(X_test_pca)\n",
        "    acc_pca = accuracy_score(y_test_pca, y_pred_pca)\n",
        "    print(f\"{name} Accuracy after PCA: {acc_pca:.4f}\")\n"
      ]
    }
  ]
}