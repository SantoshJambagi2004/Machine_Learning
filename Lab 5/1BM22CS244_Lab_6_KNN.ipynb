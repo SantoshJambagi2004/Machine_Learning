{
  "nbformat": 4,
  "nbformat_minor": 0,
  "metadata": {
    "colab": {
      "provenance": [],
      "authorship_tag": "ABX9TyMHM4LGHzMttZO5CHQH61DY",
      "include_colab_link": true
    },
    "kernelspec": {
      "name": "python3",
      "display_name": "Python 3"
    },
    "language_info": {
      "name": "python"
    }
  },
  "cells": [
    {
      "cell_type": "markdown",
      "metadata": {
        "id": "view-in-github",
        "colab_type": "text"
      },
      "source": [
        "<a href=\"https://colab.research.google.com/github/SantoshJambagi2004/Machine_Learning/blob/main/1BM22CS244_Lab_6_KNN.ipynb\" target=\"_parent\"><img src=\"https://colab.research.google.com/assets/colab-badge.svg\" alt=\"Open In Colab\"/></a>"
      ]
    },
    {
      "cell_type": "code",
      "execution_count": 3,
      "metadata": {
        "colab": {
          "base_uri": "https://localhost:8080/"
        },
        "id": "Rxv6ChORRgsw",
        "outputId": "47ba2d32-f224-40fa-823d-0f25b2c5fd27"
      },
      "outputs": [
        {
          "output_type": "stream",
          "name": "stdout",
          "text": [
            "Iris Dataset:\n",
            "Accuracy: 1.0\n",
            "Confusion Matrix:\n",
            " [[10  0  0]\n",
            " [ 0  9  0]\n",
            " [ 0  0 11]]\n",
            "Classification Report:\n",
            "               precision    recall  f1-score   support\n",
            "\n",
            "      setosa       1.00      1.00      1.00        10\n",
            "  versicolor       1.00      1.00      1.00         9\n",
            "   virginica       1.00      1.00      1.00        11\n",
            "\n",
            "    accuracy                           1.00        30\n",
            "   macro avg       1.00      1.00      1.00        30\n",
            "weighted avg       1.00      1.00      1.00        30\n",
            "\n",
            "\n",
            "Diabetes Dataset:\n",
            "Accuracy: 0.6948051948051948\n",
            "Confusion Matrix:\n",
            " [[79 20]\n",
            " [27 28]]\n"
          ]
        }
      ],
      "source": [
        "import pandas as pd\n",
        "import numpy as np\n",
        "import matplotlib.pyplot as plt\n",
        "from sklearn.model_selection import train_test_split\n",
        "from sklearn.preprocessing import StandardScaler\n",
        "from sklearn.neighbors import KNeighborsClassifier\n",
        "from sklearn.metrics import accuracy_score, confusion_matrix, classification_report\n",
        "\n",
        "# Load IRIS dataset\n",
        "iris_df = pd.read_csv(\"/content/iris (1).csv\")\n",
        "X_iris = iris_df.iloc[:, :-1].values  # Features\n",
        "y_iris = iris_df.iloc[:, -1].values   # Target\n",
        "\n",
        "# Split data (80% train, 20% test)\n",
        "X_train_iris, X_test_iris, y_train_iris, y_test_iris = train_test_split(X_iris, y_iris, test_size=0.2, random_state=42)\n",
        "\n",
        "# Train KNN model for Iris dataset\n",
        "knn_iris = KNeighborsClassifier(n_neighbors=3)\n",
        "knn_iris.fit(X_train_iris, y_train_iris)\n",
        "y_pred_iris = knn_iris.predict(X_test_iris)\n",
        "\n",
        "# Display results for IRIS\n",
        "print(\"Iris Dataset:\")\n",
        "print(\"Accuracy:\", accuracy_score(y_test_iris, y_pred_iris))\n",
        "print(\"Confusion Matrix:\\n\", confusion_matrix(y_test_iris, y_pred_iris))\n",
        "print(\"Classification Report:\\n\", classification_report(y_test_iris, y_pred_iris))\n",
        "\n",
        "# Load Diabetes dataset\n",
        "diabetes_df = pd.read_csv(\"/content/diabetes.csv\")\n",
        "X_diabetes = diabetes_df.iloc[:, :-1].values  # Features\n",
        "y_diabetes = diabetes_df.iloc[:, -1].values   # Target\n",
        "\n",
        "# Split data (80% train, 20% test)\n",
        "X_train_diabetes, X_test_diabetes, y_train_diabetes, y_test_diabetes = train_test_split(X_diabetes, y_diabetes, test_size=0.2, random_state=42)\n",
        "\n",
        "# Feature Scaling\n",
        "scaler = StandardScaler()\n",
        "X_train_diabetes = scaler.fit_transform(X_train_diabetes)\n",
        "X_test_diabetes = scaler.transform(X_test_diabetes)\n",
        "\n",
        "# Train KNN model for Diabetes dataset\n",
        "knn_diabetes = KNeighborsClassifier(n_neighbors=5)\n",
        "knn_diabetes.fit(X_train_diabetes, y_train_diabetes)\n",
        "y_pred_diabetes = knn_diabetes.predict(X_test_diabetes)\n",
        "\n",
        "# Display results for Diabetes\n",
        "print(\"\\nDiabetes Dataset:\")\n",
        "print(\"Accuracy:\", accuracy_score(y_test_diabetes, y_pred_diabetes))\n",
        "print(\"Confusion Matrix:\\n\", confusion_matrix(y_test_diabetes, y_pred_diabetes))"
      ]
    },
    {
      "cell_type": "code",
      "source": [
        "import pandas as pd\n",
        "import numpy as np\n",
        "import matplotlib.pyplot as plt\n",
        "import seaborn as sns\n",
        "from sklearn.model_selection import train_test_split\n",
        "from sklearn.preprocessing import StandardScaler\n",
        "from sklearn.neighbors import KNeighborsClassifier\n",
        "from sklearn.metrics import accuracy_score, confusion_matrix, classification_report\n",
        "\n",
        "# Load Heart dataset\n",
        "heart_df = pd.read_csv(\"/content/heart.csv\")\n",
        "X_heart = heart_df.iloc[:, :-1].values  # Features\n",
        "y_heart = heart_df.iloc[:, -1].values   # Target\n",
        "\n",
        "# Split data (80% train, 20% test)\n",
        "X_train_heart, X_test_heart, y_train_heart, y_test_heart = train_test_split(X_heart, y_heart, test_size=0.2, random_state=42)\n",
        "\n",
        "# Feature Scaling\n",
        "scaler = StandardScaler()\n",
        "X_train_heart = scaler.fit_transform(X_train_heart)\n",
        "X_test_heart = scaler.transform(X_test_heart)\n",
        "\n",
        "# Finding the best K value\n",
        "accuracy_scores = []\n",
        "k_values = range(1, 21)\n",
        "for k in k_values:\n",
        "    knn = KNeighborsClassifier(n_neighbors=k)\n",
        "    knn.fit(X_train_heart, y_train_heart)\n",
        "    y_pred = knn.predict(X_test_heart)\n",
        "    accuracy_scores.append(accuracy_score(y_test_heart, y_pred))\n",
        "\n",
        "# Best K value\n",
        "best_k = k_values[np.argmax(accuracy_scores)]\n",
        "print(f\"Best K Value: {best_k}\")\n",
        "\n",
        "# Train KNN with best K value\n",
        "knn_best = KNeighborsClassifier(n_neighbors=best_k)\n",
        "knn_best.fit(X_train_heart, y_train_heart)\n",
        "y_pred_heart = knn_best.predict(X_test_heart)\n",
        "\n",
        "# Display Accuracy\n",
        "print(\"Accuracy:\", accuracy_score(y_test_heart, y_pred_heart))\n",
        "\n",
        "# Plot Confusion Matrix\n",
        "conf_matrix = confusion_matrix(y_test_heart, y_pred_heart)\n",
        "sns.heatmap(conf_matrix, annot=True, fmt='d', cmap='Blues')\n",
        "plt.xlabel(\"Predicted\")\n",
        "plt.ylabel(\"Actual\")\n",
        "plt.title(\"Confusion Matrix\")\n",
        "plt.show()\n",
        "\n",
        "# Display Classification Report\n",
        "print(\"Classification Report:\\n\", classification_report(y_test_heart, y_pred_heart))"
      ],
      "metadata": {
        "colab": {
          "base_uri": "https://localhost:8080/",
          "height": 680
        },
        "id": "nJ63szH8TVRT",
        "outputId": "05507ad3-b53c-45ba-dadb-cbdb1c50f63a"
      },
      "execution_count": 4,
      "outputs": [
        {
          "output_type": "stream",
          "name": "stdout",
          "text": [
            "Best K Value: 7\n",
            "Accuracy: 0.9180327868852459\n"
          ]
        },
        {
          "output_type": "display_data",
          "data": {
            "text/plain": [
              "<Figure size 640x480 with 2 Axes>"
            ],
            "image/png": "[encoded data removed]"
          },
          "metadata": {}
        },
        {
          "output_type": "stream",
          "name": "stdout",
          "text": [
            "Classification Report:\n",
            "               precision    recall  f1-score   support\n",
            "\n",
            "           0       0.90      0.93      0.92        29\n",
            "           1       0.94      0.91      0.92        32\n",
            "\n",
            "    accuracy                           0.92        61\n",
            "   macro avg       0.92      0.92      0.92        61\n",
            "weighted avg       0.92      0.92      0.92        61\n",
            "\n"
          ]
        }
      ]
    }
  ]
}