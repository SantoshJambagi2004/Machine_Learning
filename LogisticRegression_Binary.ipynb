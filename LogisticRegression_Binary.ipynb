{
  "nbformat": 4,
  "nbformat_minor": 0,
  "metadata": {
    "colab": {
      "provenance": [],
      "authorship_tag": "ABX9TyNBHjRQoILzQcviYe3MpQBY",
      "include_colab_link": true
    },
    "kernelspec": {
      "name": "python3",
      "display_name": "Python 3"
    },
    "language_info": {
      "name": "python"
    }
  },
  "cells": [
    {
      "cell_type": "markdown",
      "metadata": {
        "id": "view-in-github",
        "colab_type": "text"
      },
      "source": [
        "<a href=\"https://colab.research.google.com/github/SantoshJambagi2004/Machine_Learning/blob/main/LogisticRegression_Binary.ipynb\" target=\"_parent\"><img src=\"https://colab.research.google.com/assets/colab-badge.svg\" alt=\"Open In Colab\"/></a>"
      ]
    },
    {
      "cell_type": "code",
      "execution_count": 1,
      "metadata": {
        "colab": {
          "base_uri": "https://localhost:8080/"
        },
        "id": "IDPySxBrFrzW",
        "outputId": "5dd634f4-9d96-4f5d-a793-41de51921b3b"
      },
      "outputs": [
        {
          "output_type": "stream",
          "name": "stderr",
          "text": [
            "/usr/local/lib/python3.11/dist-packages/sklearn/utils/validation.py:2739: UserWarning: X does not have valid feature names, but LogisticRegression was fitted with feature names\n",
            "  warnings.warn(\n"
          ]
        },
        {
          "output_type": "execute_result",
          "data": {
            "text/plain": [
              "0.3709834769552775"
            ]
          },
          "metadata": {},
          "execution_count": 1
        }
      ],
      "source": [
        "import pandas as pd\n",
        "import numpy as np\n",
        "df = pd.read_csv(\"/content/insurance_data (1).csv\")\n",
        "df.head()\n",
        "\n",
        "from sklearn.model_selection import train_test_split\n",
        "\n",
        "X_train, X_test, y_train, y_test = train_test_split(df[['age']],df.bought_insurance,train_size=0.9,random_state=10)\n",
        "X_train.shape\n",
        "\n",
        "X_test\n",
        "\n",
        "from sklearn.linear_model import LogisticRegression\n",
        "model = LogisticRegression()\n",
        "\n",
        "model.fit(X_train, y_train)\n",
        "\n",
        "X_test\n",
        "\n",
        "y_test\n",
        "\n",
        "y_predicted = model.predict(X_test)\n",
        "y_predicted\n",
        "\n",
        "model.score(X_test,y_test)\n",
        "\n",
        "model.predict_proba(X_test)\n",
        "\n",
        "y_predicted = model.predict([[60]])\n",
        "y_predicted\n",
        "\n",
        "#model.coef_ indicates value of m in y=m*x + b equation\n",
        "model.coef_\n",
        "\n",
        "#model.intercept_ indicates value of b in y=m*x + b equation\n",
        "model.intercept_\n",
        "\n",
        "#Lets defined sigmoid function now and do the math with hand\n",
        "import math\n",
        "def sigmoid(x):\n",
        "  return 1 / (1 + math.exp(-x))\n",
        "\n",
        "def prediction_function(age):\n",
        "   z = 0.127 * age - 4.973 # 0.12740563 ~ 0.0127 and -4.97335111 ~ -4.97\n",
        "   y = sigmoid(z)\n",
        "   return y\n",
        "\n",
        "age = 35\n",
        "prediction_function(age)"
      ]
    }
  ]
}